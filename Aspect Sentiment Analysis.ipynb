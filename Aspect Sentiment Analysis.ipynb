{
 "cells": [
  {
   "cell_type": "markdown",
   "source": [
    "This notebook contains three main sections:\n",
    "\n",
    "* Introduction: This section covers the domain specific area and the\n",
    "problem, the objectives of this project and the evaluation metrics decided\n",
    "upon when evaluating the results.\n",
    "* Implementation: This section covers the data pre-processing steps,\n",
    "baseline performance, vectorization optimisation and classification approach.\n",
    "* Conclusions: This sections evaluates the classifier results and\n",
    "alternative approaches\n",
    "\n",
    "TripAdvisor Hotel Review Dataset is shared under Creative Commons\n",
    "Attribution Non Commercial 4.0 International License. Under this license,\n",
    "the project can use the data as long as credit is given\n",
    "2 Dataset\n",
    "The dataset I have extracted for this was taken from the Kaggle website. It is the TripAdvisor hotel reviews dataset from Kaggle. This dataset was originally taken from the publication “Alam, M. H., Ryu, W.-J., Lee, S., 2016. Joint multi-grain topic sentiment: modeling semantic aspects for online reviews. Information Sciences 339, 206–223”. Trip Advisor Hotel Reviews\n",
    "The dataset consists of 20,490 hotel reviews that were scraped from the TripAdvisor website and is in CSV format. It consists of two fields:\n",
    "Review field which has the long form text review that was written about the hotel (as a string data type).\n",
    "Rating field (as an integer data type). This is the number of stars (1-5) that the reviewer gave the hotel overall. There are no null values in the extracted dataset. The reviews are all written in English\n",
    "\n",
    "#### Citation References\n",
    "\n",
    "Alam, M. H., Ryu, W.-J., Lee, S., 2016. Joint multi-grain topic sentiment: modeling semantic aspects for online reviews. Information Sciences 339, 206–223."
   ],
   "metadata": {
    "collapsed": false,
    "pycharm": {
     "name": "#%% md\n"
    }
   }
  },
  {
   "cell_type": "code",
   "execution_count": 2,
   "outputs": [],
   "source": [
    "import numpy as np\n",
    "import pandas as pd\n",
    "import spacy\n",
    "import seaborn as sns\n",
    "import matplotlib.pyplot as plt\n",
    "\n",
    "from nltk import word_tokenize\n",
    "from nltk import sent_tokenize\n",
    "from nltk import WordNetLemmatizer\n",
    "from nltk.corpus import stopwords\n",
    "\n",
    "import re"
   ],
   "metadata": {
    "collapsed": false,
    "pycharm": {
     "name": "#%%\n"
    }
   }
  },
  {
   "cell_type": "code",
   "execution_count": 3,
   "outputs": [
    {
     "data": {
      "text/plain": "                                              Review  Rating\n0  nice hotel expensive parking got good deal sta...       4\n1  ok nothing special charge diamond member hilto...       2\n2  nice rooms not 4* experience hotel monaco seat...       3\n3  unique, great stay, wonderful time hotel monac...       5\n4  great stay great stay, went seahawk game aweso...       5",
      "text/html": "<div>\n<style scoped>\n    .dataframe tbody tr th:only-of-type {\n        vertical-align: middle;\n    }\n\n    .dataframe tbody tr th {\n        vertical-align: top;\n    }\n\n    .dataframe thead th {\n        text-align: right;\n    }\n</style>\n<table border=\"1\" class=\"dataframe\">\n  <thead>\n    <tr style=\"text-align: right;\">\n      <th></th>\n      <th>Review</th>\n      <th>Rating</th>\n    </tr>\n  </thead>\n  <tbody>\n    <tr>\n      <th>0</th>\n      <td>nice hotel expensive parking got good deal sta...</td>\n      <td>4</td>\n    </tr>\n    <tr>\n      <th>1</th>\n      <td>ok nothing special charge diamond member hilto...</td>\n      <td>2</td>\n    </tr>\n    <tr>\n      <th>2</th>\n      <td>nice rooms not 4* experience hotel monaco seat...</td>\n      <td>3</td>\n    </tr>\n    <tr>\n      <th>3</th>\n      <td>unique, great stay, wonderful time hotel monac...</td>\n      <td>5</td>\n    </tr>\n    <tr>\n      <th>4</th>\n      <td>great stay great stay, went seahawk game aweso...</td>\n      <td>5</td>\n    </tr>\n  </tbody>\n</table>\n</div>"
     },
     "execution_count": 3,
     "metadata": {},
     "output_type": "execute_result"
    }
   ],
   "source": [
    "df = pd.read_csv('tripadvisor_hotel_reviews.csv')\n",
    "df.head()"
   ],
   "metadata": {
    "collapsed": false,
    "pycharm": {
     "name": "#%%\n"
    }
   }
  },
  {
   "cell_type": "code",
   "execution_count": 4,
   "outputs": [
    {
     "data": {
      "text/plain": "<Figure size 432x288 with 1 Axes>",
      "image/png": "[encoded data removed]"
     },
     "metadata": {},
     "output_type": "display_data"
    },
    {
     "name": "stdout",
     "output_type": "stream",
     "text": [
      "Distribution of Ratings: \n",
      "\n",
      "5    44.19%\n",
      "4    29.47%\n",
      "3    10.66%\n",
      "2     8.75%\n",
      "1     6.93%\n",
      "Name: Rating, dtype: object\n"
     ]
    }
   ],
   "source": [
    "sns.countplot(df, x='Rating',)\n",
    "plt.show()\n",
    "print(\"Distribution of Ratings: \\n\")\n",
    "print(df.Rating.value_counts(normalize=True).mul(100).round(2).astype(str)\n",
    "      + '%')"
   ],
   "metadata": {
    "collapsed": false,
    "pycharm": {
     "name": "#%%\n"
    }
   }
  },
  {
   "cell_type": "code",
   "execution_count": 5,
   "outputs": [
    {
     "data": {
      "text/plain": "                                              Review  Rating Sentiment  \\\n0  nice hotel expensive parking got good deal sta...       4  Positive   \n1  ok nothing special charge diamond member hilto...       2  Negative   \n2  nice rooms not 4* experience hotel monaco seat...       3  Negative   \n3  unique, great stay, wonderful time hotel monac...       5  Positive   \n4  great stay great stay, went seahawk game aweso...       5  Positive   \n\n   Binary_Sentiment  \n0                 1  \n1                 0  \n2                 0  \n3                 1  \n4                 1  ",
      "text/html": "<div>\n<style scoped>\n    .dataframe tbody tr th:only-of-type {\n        vertical-align: middle;\n    }\n\n    .dataframe tbody tr th {\n        vertical-align: top;\n    }\n\n    .dataframe thead th {\n        text-align: right;\n    }\n</style>\n<table border=\"1\" class=\"dataframe\">\n  <thead>\n    <tr style=\"text-align: right;\">\n      <th></th>\n      <th>Review</th>\n      <th>Rating</th>\n      <th>Sentiment</th>\n      <th>Binary_Sentiment</th>\n    </tr>\n  </thead>\n  <tbody>\n    <tr>\n      <th>0</th>\n      <td>nice hotel expensive parking got good deal sta...</td>\n      <td>4</td>\n      <td>Positive</td>\n      <td>1</td>\n    </tr>\n    <tr>\n      <th>1</th>\n      <td>ok nothing special charge diamond member hilto...</td>\n      <td>2</td>\n      <td>Negative</td>\n      <td>0</td>\n    </tr>\n    <tr>\n      <th>2</th>\n      <td>nice rooms not 4* experience hotel monaco seat...</td>\n      <td>3</td>\n      <td>Negative</td>\n      <td>0</td>\n    </tr>\n    <tr>\n      <th>3</th>\n      <td>unique, great stay, wonderful time hotel monac...</td>\n      <td>5</td>\n      <td>Positive</td>\n      <td>1</td>\n    </tr>\n    <tr>\n      <th>4</th>\n      <td>great stay great stay, went seahawk game aweso...</td>\n      <td>5</td>\n      <td>Positive</td>\n      <td>1</td>\n    </tr>\n  </tbody>\n</table>\n</div>"
     },
     "execution_count": 5,
     "metadata": {},
     "output_type": "execute_result"
    }
   ],
   "source": [
    "sentiment_mapping = {\n",
    "    1:'Negative', 2:'Negative', 3:'Negative',\n",
    "    4:'Positive', 5:'Positive'\n",
    "}\n",
    "df['Sentiment'] = df['Rating'].map(sentiment_mapping)\n",
    "df['Binary_Sentiment'] = df['Sentiment'].map({'Positive': 1, 'Negative': 0})\n",
    "df.head()"
   ],
   "metadata": {
    "collapsed": false,
    "pycharm": {
     "name": "#%%\n"
    }
   }
  },
  {
   "cell_type": "code",
   "execution_count": 6,
   "outputs": [
    {
     "data": {
      "text/plain": "Positive    15093\nNegative     5398\nName: Sentiment, dtype: int64"
     },
     "execution_count": 6,
     "metadata": {},
     "output_type": "execute_result"
    }
   ],
   "source": [
    "df['Sentiment'].value_counts()"
   ],
   "metadata": {
    "collapsed": false,
    "pycharm": {
     "name": "#%%\n"
    }
   }
  },
  {
   "cell_type": "code",
   "execution_count": 7,
   "outputs": [
    {
     "data": {
      "text/plain": "Positive    73.66%\nNegative    26.34%\nName: Sentiment, dtype: object"
     },
     "execution_count": 7,
     "metadata": {},
     "output_type": "execute_result"
    }
   ],
   "source": [
    "df['Sentiment'].value_counts(normalize=True).mul(100).round(2).astype(str) \\\n",
    "+ '%'"
   ],
   "metadata": {
    "collapsed": false,
    "pycharm": {
     "name": "#%%\n"
    }
   }
  },
  {
   "cell_type": "code",
   "execution_count": 8,
   "outputs": [
    {
     "data": {
      "text/plain": "                                              Review  Rating Sentiment  \\\n0  nice hotel expensive parking got good deal sta...       4  Positive   \n1  ok nothing special charge diamond member hilto...       2  Negative   \n2  nice rooms not 4* experience hotel monaco seat...       3  Negative   \n3  unique, great stay, wonderful time hotel monac...       5  Positive   \n4  great stay great stay, went seahawk game aweso...       5  Positive   \n\n   Binary_Sentiment                                    tokenized_sents  \\\n0                 1  [nice, hotel, expensive, parking, got, good, d...   \n1                 0  [ok, nothing, special, charge, diamond, member...   \n2                 0  [nice, rooms, not, 4, *, experience, hotel, mo...   \n3                 1  [unique, ,, great, stay, ,, wonderful, time, h...   \n4                 1  [great, stay, great, stay, ,, went, seahawk, g...   \n\n                                           processed  \n0  nice hotel expensive parking got good deal sta...  \n1  nothing special charge diamond member hilton d...  \n2  nice room experience hotel monaco seattle good...  \n3  unique great stay wonderful time hotel monaco ...  \n4  great stay great stay went seahawk game awesom...  ",
      "text/html": "<div>\n<style scoped>\n    .dataframe tbody tr th:only-of-type {\n        vertical-align: middle;\n    }\n\n    .dataframe tbody tr th {\n        vertical-align: top;\n    }\n\n    .dataframe thead th {\n        text-align: right;\n    }\n</style>\n<table border=\"1\" class=\"dataframe\">\n  <thead>\n    <tr style=\"text-align: right;\">\n      <th></th>\n      <th>Review</th>\n      <th>Rating</th>\n      <th>Sentiment</th>\n      <th>Binary_Sentiment</th>\n      <th>tokenized_sents</th>\n      <th>processed</th>\n    </tr>\n  </thead>\n  <tbody>\n    <tr>\n      <th>0</th>\n      <td>nice hotel expensive parking got good deal sta...</td>\n      <td>4</td>\n      <td>Positive</td>\n      <td>1</td>\n      <td>[nice, hotel, expensive, parking, got, good, d...</td>\n      <td>nice hotel expensive parking got good deal sta...</td>\n    </tr>\n    <tr>\n      <th>1</th>\n      <td>ok nothing special charge diamond member hilto...</td>\n      <td>2</td>\n      <td>Negative</td>\n      <td>0</td>\n      <td>[ok, nothing, special, charge, diamond, member...</td>\n      <td>nothing special charge diamond member hilton d...</td>\n    </tr>\n    <tr>\n      <th>2</th>\n      <td>nice rooms not 4* experience hotel monaco seat...</td>\n      <td>3</td>\n      <td>Negative</td>\n      <td>0</td>\n      <td>[nice, rooms, not, 4, *, experience, hotel, mo...</td>\n      <td>nice room experience hotel monaco seattle good...</td>\n    </tr>\n    <tr>\n      <th>3</th>\n      <td>unique, great stay, wonderful time hotel monac...</td>\n      <td>5</td>\n      <td>Positive</td>\n      <td>1</td>\n      <td>[unique, ,, great, stay, ,, wonderful, time, h...</td>\n      <td>unique great stay wonderful time hotel monaco ...</td>\n    </tr>\n    <tr>\n      <th>4</th>\n      <td>great stay great stay, went seahawk game aweso...</td>\n      <td>5</td>\n      <td>Positive</td>\n      <td>1</td>\n      <td>[great, stay, great, stay, ,, went, seahawk, g...</td>\n      <td>great stay great stay went seahawk game awesom...</td>\n    </tr>\n  </tbody>\n</table>\n</div>"
     },
     "execution_count": 8,
     "metadata": {},
     "output_type": "execute_result"
    }
   ],
   "source": [
    "wnl = WordNetLemmatizer()\n",
    "stop_words = set(stopwords.words('english'))\n",
    "\n",
    "def text_preprocess(text):\n",
    "    \"\"\"Tokenize and lemmatize text\"\"\"\n",
    "    # Need to add in stopwords. Explore spacy option as well\n",
    "    text = text.lower() #lowercase text\n",
    "    words = re.sub('[^a-zA-Z]', ' ', text) #replace character\n",
    "    tokens = word_tokenize(words)\n",
    "    tokens = [token for token in tokens if token.isalpha()]\n",
    "    tokens = [wnl.lemmatize(token) for token in tokens]\n",
    "    tokens = [token for token in tokens if len(token) > 2]\n",
    "    keep_words = [token for token in tokens if token not in stop_words]\n",
    "    return \" \".join(keep_words)\n",
    "df['tokenized_sents'] = df.apply(lambda row: word_tokenize\n",
    "(row['Review']), axis=1)\n",
    "\n",
    "df['processed'] = df.Review.apply(text_preprocess)\n",
    "df.head()"
   ],
   "metadata": {
    "collapsed": false,
    "pycharm": {
     "name": "#%%\n"
    }
   }
  },
  {
   "cell_type": "code",
   "execution_count": null,
   "outputs": [],
   "source": [],
   "metadata": {
    "collapsed": false,
    "pycharm": {
     "name": "#%%\n"
    }
   }
  }
 ],
 "metadata": {
  "kernelspec": {
   "display_name": "Python 3",
   "language": "python",
   "name": "python3"
  },
  "language_info": {
   "codemirror_mode": {
    "name": "ipython",
    "version": 2
   },
   "file_extension": ".py",
   "mimetype": "text/x-python",
   "name": "python",
   "nbconvert_exporter": "python",
   "pygments_lexer": "ipython2",
   "version": "2.7.6"
  }
 },
 "nbformat": 4,
 "nbformat_minor": 0
}